{
  "nbformat": 4,
  "nbformat_minor": 0,
  "metadata": {
    "colab": {
      "name": "regreesion .py",
      "provenance": [],
      "collapsed_sections": [],
      "authorship_tag": "ABX9TyNOdGdMkm7LKZ+PQwrRvkFW",
      "include_colab_link": true
    },
    "kernelspec": {
      "name": "python3",
      "display_name": "Python 3"
    }
  },
  "cells": [
    {
      "cell_type": "markdown",
      "metadata": {
        "id": "view-in-github",
        "colab_type": "text"
      },
      "source": [
        "<a href=\"https://colab.research.google.com/github/prabhatu786/project-no1/blob/master/regreesion_py.ipynb\" target=\"_parent\"><img src=\"https://colab.research.google.com/assets/colab-badge.svg\" alt=\"Open In Colab\"/></a>"
      ]
    },
    {
      "cell_type": "code",
      "metadata": {
        "id": "55PUa-OP8JXv",
        "colab_type": "code",
        "outputId": "abe604a2-214c-454d-87ce-afc3af4ab56c",
        "colab": {
          "base_uri": "https://localhost:8080/",
          "height": 170
        }
      },
      "source": [
        "import numpy as np\n",
        "import matplotlib.pyplot as plt\n",
        "import pandas as pd\n",
        "\n",
        "# LOAD DATASET FROM SKLEARN \n",
        "from sklearn.datasets import load_boston\n",
        "dataset=load_boston() # storing data in variable\n",
        "print(type(dataset))\n",
        "\n",
        "# CONVERTING DATASET INTO PANDAS DATAFRAME\n",
        "data1 = pd.DataFrame(data= np.c_[data['data'], data['target']],\n",
        "                     columns= data['feature_names'] + ['target'])\n",
        "print(data1.head())"
      ],
      "execution_count": 0,
      "outputs": [
        {
          "output_type": "stream",
          "text": [
            "<class 'sklearn.utils.Bunch'>\n",
            "   sepal length (cm)  sepal width (cm)  ...  petal width (cm)  target\n",
            "0                5.1               3.5  ...               0.2     0.0\n",
            "1                4.9               3.0  ...               0.2     0.0\n",
            "2                4.7               3.2  ...               0.2     0.0\n",
            "3                4.6               3.1  ...               0.2     0.0\n",
            "4                5.0               3.6  ...               0.2     0.0\n",
            "\n",
            "[5 rows x 5 columns]\n"
          ],
          "name": "stdout"
        }
      ]
    },
    {
      "cell_type": "code",
      "metadata": {
        "id": "ObOpIWyRHdsK",
        "colab_type": "code",
        "colab": {}
      },
      "source": [
        ""
      ],
      "execution_count": 0,
      "outputs": []
    }
  ]
}