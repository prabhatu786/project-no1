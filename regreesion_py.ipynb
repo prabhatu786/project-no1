{
  "nbformat": 4,
  "nbformat_minor": 0,
  "metadata": {
    "colab": {
      "name": "regreesion .py",
      "provenance": [],
      "collapsed_sections": [],
      "authorship_tag": "ABX9TyOAR49cMe3usPPmyRIp8O+Z",
      "include_colab_link": true
    },
    "kernelspec": {
      "name": "python3",
      "display_name": "Python 3"
    }
  },
  "cells": [
    {
      "cell_type": "markdown",
      "metadata": {
        "id": "view-in-github",
        "colab_type": "text"
      },
      "source": [
        "<a href=\"https://colab.research.google.com/github/prabhatu786/project-no1/blob/master/regreesion_py.ipynb\" target=\"_parent\"><img src=\"https://colab.research.google.com/assets/colab-badge.svg\" alt=\"Open In Colab\"/></a>"
      ]
    },
    {
      "cell_type": "code",
      "metadata": {
        "id": "55PUa-OP8JXv",
        "colab_type": "code",
        "colab": {}
      },
      "source": [
        "import numpy as np\n",
        "import matplotlib.pyplot as plt\n",
        "import pandas as pd\n",
        "\n",
        "# LOAD DATASET FROM SKLEARN \n",
        "from sklearn.datasets import load_iris\n",
        "dataset=load_iris() # storing data in variable\n",
        "print(type(dataset))\n",
        "dataset.keys()\n",
        "\n",
        "# CONVERTING DATASET INTO PANDAS DATAFRAME\n",
        "data = pd.DataFrame(dataset.data,columns=[dataset.feature_names])\n",
        "data.describe()\n",
        "\n",
        "# visuilising of data\n",
        "plt.plot(data)\n",
        "\n",
        "# braking of data\n",
        "x=data.iloc[:,1:4].values\n",
        "y=data.iloc[:,3].values\n",
        "print(x)\n",
        "print(y)\n",
        "plt.plot(x,y)\n",
        "\n",
        "# ENCODING DATA\n",
        "from sklearn.preprocessing import LabelEncoder \n",
        "lableencoder_y=LabelEncoder()\n",
        "y=lableencoder_y.fit_transform(y)\n",
        "y\n",
        "\n",
        "# TO SPILT DATA IN train_text_spilt\n"
      ],
      "execution_count": 0,
      "outputs": []
    }
  ]
}